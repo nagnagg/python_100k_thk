{
 "cells": [
  {
   "cell_type": "markdown",
   "metadata": {
    "id": "MBxWeOwlyhJ3"
   },
   "source": [
    "# Python入門講座_解答(Ver.1.1)"
   ]
  },
  {
   "cell_type": "markdown",
   "metadata": {
    "id": "g0C5H-NEyhJ4"
   },
   "source": [
    "## はじめに\n",
    "- ここではPythonの基本的な文法について学びます。\n",
    "- 説明文、例文、実行結果をよく見て問題に取り組んでください。\n",
    "- 問題は全38問になります。\n",
    "- Teams上の「THKデータ活用研修(受講者)」> 「3.中級」> 事前課題_質問コーナーもご活用ください。"
   ]
  },
  {
   "cell_type": "markdown",
   "metadata": {
    "id": "TLGZMOVByhJ5"
   },
   "source": [
    "## Lesson 1:まずはコードを実行してみよう"
   ]
  },
  {
   "cell_type": "markdown",
   "metadata": {
    "id": "Z2n9WgFayhJ6"
   },
   "source": [
    "---\n",
    "> 1-1: print文の使い方\n",
    "- print('文字列')で文字列を出力することができます"
   ]
  },
  {
   "cell_type": "code",
   "execution_count": null,
   "metadata": {
    "id": "rZjUZ7mDyhJ7"
   },
   "outputs": [],
   "source": [
    "# 例文：print文を用いてHelloを出力する\n",
    "print('Hello')"
   ]
  },
  {
   "cell_type": "markdown",
   "metadata": {},
   "source": [
    "> Q1:print文を用いてHello Worldという文章を出力しなさい"
   ]
  },
  {
   "cell_type": "code",
   "execution_count": null,
   "metadata": {
    "id": "fBAer1XAVljV"
   },
   "outputs": [],
   "source": [
    "print('Hello World')"
   ]
  },
  {
   "cell_type": "markdown",
   "metadata": {
    "id": "K9DuTNuSyhKA"
   },
   "source": [
    ">1-2: 変数の出力\n",
    "- print(変数)で変数に代入した値(データ)を出力することができます\n",
    "- 変数とは値を指すタグのことです\n",
    "- 変数 = '文字列' で変数に文字列を代入（タグ付け）できます\n",
    "- 変数には、文字列だけでなく、整数、小数など様々な値を代入できます\n",
    "- 例\n",
    "  - name = '直動太郎' (nameという変数に直動太郎という文字列を代入）\n",
    "  - age = 12　(ageという変数に12という整数を代入)"
   ]
  },
  {
   "cell_type": "code",
   "execution_count": null,
   "metadata": {
    "id": "B08DtfsnyhKA"
   },
   "outputs": [],
   "source": [
    "# 例文:変数xにHelloを代入してprintする\n",
    "x = 'Hello'\n",
    "print(x)"
   ]
  },
  {
   "cell_type": "markdown",
   "metadata": {},
   "source": [
    ">Q2: 変数aにHello Worldを代入して変数aをprintで出力しなさい"
   ]
  },
  {
   "cell_type": "code",
   "execution_count": null,
   "metadata": {
    "id": "CfmeagsGVsgn"
   },
   "outputs": [],
   "source": [
    "a = 'Hello World'\n",
    "print(a)"
   ]
  },
  {
   "cell_type": "markdown",
   "metadata": {
    "id": "5RUkv8NRyhKE"
   },
   "source": [
    ">1-3: 代入する値の変更\n",
    "- 変数に別の値を代入すると、変数の参照先が上書きされます。"
   ]
  },
  {
   "cell_type": "code",
   "execution_count": null,
   "metadata": {
    "id": "AU0ktbafyhKE"
   },
   "outputs": [],
   "source": [
    "# 例文：aに'Hello'を代入した後、aに'こんにちは'を代入して出力する\n",
    "a = 'Hello'\n",
    "print(a)\n",
    "a = 'こんにちは'  # aに代入する文字列を変えると、aが参照する文字列も変わります\n",
    "print(a)"
   ]
  },
  {
   "cell_type": "markdown",
   "metadata": {},
   "source": [
    ">Q3:変数aにHello Worldを代入してprintで出力し、その後変数aに'こんにちはPython'を代入して出力しなさい"
   ]
  },
  {
   "cell_type": "code",
   "execution_count": null,
   "metadata": {
    "id": "xAmDXp-byhKG"
   },
   "outputs": [],
   "source": [
    "a = 'Hello World'\n",
    "print(a)\n",
    "a = 'こんにちはPython'\n",
    "print(a)"
   ]
  },
  {
   "cell_type": "markdown",
   "metadata": {
    "id": "KJ0dNXh-YxIa"
   },
   "source": [
    ">1-4: 数値と文字列\n",
    "- 変数には数値と文字列どちらも代入できます\n",
    "- クォート( ' ' )で囲むと数値でも文字列になります\n",
    "- 整数はintというデータ型、文字列はstrというデータ型になります"
   ]
  },
  {
   "cell_type": "code",
   "execution_count": null,
   "metadata": {
    "id": "lJlEJbPFaUz2"
   },
   "outputs": [],
   "source": [
    "# 例文：変数aに数値2 + 数値6と文字列'2 + 6'を代入して出力する\n",
    "# aに数値2 + 数値6を代入して出力する\n",
    "a = 2 + 6\n",
    "print(a)\n",
    "# データ型の確認。※データ型と関数については後述します\n",
    "print(type(a))\n",
    "\n",
    "# aに文字列'2 + 6'を代入して出力する\n",
    "a = '2 + 6'\n",
    "print(a)\n",
    "# データ型の確認。\n",
    "print(type(a))"
   ]
  },
  {
   "cell_type": "markdown",
   "metadata": {},
   "source": [
    "> Q4:変数aに数値10 + 15と文字列'10 + 15'を代入してそれぞれ出力しなさい"
   ]
  },
  {
   "cell_type": "code",
   "execution_count": null,
   "metadata": {
    "id": "8Sc_dVagbR39"
   },
   "outputs": [],
   "source": [
    "a = 10 + 15\n",
    "print(a)\n",
    "a = '10 + 15'\n",
    "print(a)"
   ]
  },
  {
   "cell_type": "markdown",
   "metadata": {
    "id": "kjqBLznIb5IG"
   },
   "source": [
    ">1-5: シングルクォート、ダブルクォート、トリプルクォート\n",
    "- クォートで囲むと文字列になります\n",
    "- '12'(シングルクォート)、\"12\"(ダブルクォート)どちらでも変わりません\n",
    "- '''(トリプルクォート)で囲むと改行を含む長い文字列を扱えます"
   ]
  },
  {
   "cell_type": "code",
   "execution_count": null,
   "metadata": {
    "id": "p45_qQH_c61q"
   },
   "outputs": [],
   "source": [
    "# 例文： 3種類のクォートを使って文字列を出力する\n",
    "age = '12'\n",
    "print(age)\n",
    "name = \"直動太郎\"\n",
    "print(name)\n",
    "profile = '''直動太郎は12歳の小学生です。\n",
    "得意な教科は算数とプログラミングです。\n",
    "苦手な教科は体育と英語です。'''\n",
    "print(profile)"
   ]
  },
  {
   "cell_type": "markdown",
   "metadata": {},
   "source": [
    ">Q5:トリプルクォートを使って、「親譲りの無鉄砲で小供の時から損ばかりしている。\n",
    "小学校に居る時分学校の二階から飛び降りて一週間ほど腰を抜かした事がある。」という文章を出力しなさい"
   ]
  },
  {
   "cell_type": "code",
   "execution_count": null,
   "metadata": {
    "id": "mpyq7ziKdrkM"
   },
   "outputs": [],
   "source": [
    "sentence = '''親譲りの無鉄砲で小供の時から損ばかりしている。\n",
    "小学校に居る時分学校の二階から飛び降りて一週間ほど腰を抜かした事がある。'''\n",
    "print(sentence)"
   ]
  },
  {
   "cell_type": "markdown",
   "metadata": {
    "id": "wySMvatAtAWQ"
   },
   "source": [
    ">1-6: コメントアウト\n",
    "- #の後に書いた文やコードは認識されません\n",
    "- 書いたコードの意味をコメントアウトすると、他の人が見たときに分かりやすくなります。"
   ]
  },
  {
   "cell_type": "code",
   "execution_count": null,
   "metadata": {},
   "outputs": [],
   "source": [
    "# 例文：コメントアウトの使い方\n",
    "\n",
    "print('コメントアウト') # コメントアウトという文字列を出力する"
   ]
  },
  {
   "cell_type": "markdown",
   "metadata": {
    "id": "jmvjnaHFt7t-"
   },
   "source": [
    "## Lesson 2:変数の扱いと演算子"
   ]
  },
  {
   "cell_type": "markdown",
   "metadata": {
    "id": "6eivp6Xfuh4x"
   },
   "source": [
    "> 2-1: python で四則演算をしよう\n",
    "- 数値を代入した変数同士を計算することができます\n",
    " - +: 足し算\n",
    " - -: 引き算\n",
    " - \\* : 掛け算\n",
    " - / : 割り算"
   ]
  },
  {
   "cell_type": "code",
   "execution_count": null,
   "metadata": {
    "id": "RIJdwGpdugHl"
   },
   "outputs": [],
   "source": [
    "# 例文：pythonで四則演算を行います\n",
    "a = 8\n",
    "b = 4\n",
    "\n",
    "# 計算結果をprintで出力します\n",
    "print(a + b)\n",
    "print(a - b)\n",
    "print(a * b)\n",
    "print(a / b)"
   ]
  },
  {
   "cell_type": "markdown",
   "metadata": {},
   "source": [
    ">Q6:変数aに10、変数bに5を代入して、a+b, a-b, a*b, a/bの結果を出力しなさい"
   ]
  },
  {
   "cell_type": "code",
   "execution_count": null,
   "metadata": {
    "id": "RniwsyT-vz1k"
   },
   "outputs": [],
   "source": [
    "a = 10\n",
    "b = 5\n",
    "\n",
    "print(a + b)\n",
    "print(a - b)\n",
    "print(a * b)\n",
    "print(a / b)"
   ]
  },
  {
   "cell_type": "markdown",
   "metadata": {
    "id": "UOF_Kw0LwHUF"
   },
   "source": [
    "> 2-2: 整数と小数\n",
    " - 先ほどの結果で、a/bの結果だけ小数になりました\n",
    " - pythonでは整数と小数はデータ型が異なります。\n",
    "  - 整数：int型\n",
    "  - 小数：float型\n",
    " - 割り算の結果は自動的にfloat型になります。\n",
    " - また、int型とfloat型を計算すると結果はfloat型になります。\n",
    " - データ型はtype()を使って確認できます"
   ]
  },
  {
   "cell_type": "code",
   "execution_count": null,
   "metadata": {
    "id": "PsSDiK2Fwn2I"
   },
   "outputs": [],
   "source": [
    "# 例文：変数aに10を、変数bに10.0を代入してデータ型を確認する\n",
    "a = 10\n",
    "b = 10.0\n",
    "\n",
    "# a, bのデータ型を確認します\n",
    "print(type(a))\n",
    "print(type(b))\n",
    "\n",
    "# a + bの結果とデータ型を確認します\n",
    "print(a + b)\n",
    "print(type(a + b))"
   ]
  },
  {
   "cell_type": "markdown",
   "metadata": {},
   "source": [
    ">Q7:変数aに5、変数bに5.0を代入し、a + b、a * bの計算結果がfloat型になることを確認しなさい"
   ]
  },
  {
   "cell_type": "code",
   "execution_count": null,
   "metadata": {
    "id": "jgS3qjqwxoI7"
   },
   "outputs": [],
   "source": [
    "a = 5\n",
    "b = 5.0\n",
    "\n",
    "print(a + b)\n",
    "print(type(a + b))\n",
    "print(a * b)\n",
    "print(type(a * b))"
   ]
  },
  {
   "cell_type": "markdown",
   "metadata": {
    "id": "mbpdwzuXx5cp"
   },
   "source": [
    "> 2-3: 様々な演算子\n",
    " - 四則演算以外にも様々な演算子があります\n",
    " - % : 割り算したときの余りを求める\n",
    " - \\*\\*：べき乗"
   ]
  },
  {
   "cell_type": "code",
   "execution_count": null,
   "metadata": {
    "id": "lFdwjCuuyVC2"
   },
   "outputs": [],
   "source": [
    "# 例文：余りを求める計算、べき乗の計算を行います\n",
    "a = 5\n",
    "b = 2\n",
    "print(\"余りを求めます\")\n",
    "print(a % b)\n",
    "print(\"べき乗を求めます\")\n",
    "print(a ** b)"
   ]
  },
  {
   "cell_type": "markdown",
   "metadata": {},
   "source": [
    ">Q8:変数aに10、変数bに3を代入して、「a÷bの余り」、「aのb乗」の計算結果を出力しなさい"
   ]
  },
  {
   "cell_type": "code",
   "execution_count": null,
   "metadata": {
    "id": "JcHot_1Wy7P9"
   },
   "outputs": [],
   "source": [
    "a = 10\n",
    "b = 3\n",
    "print(a % b)\n",
    "print(a ** b)"
   ]
  },
  {
   "cell_type": "markdown",
   "metadata": {
    "id": "f__6m4MYzRPj"
   },
   "source": [
    "> 2-4: 複合代入演算子\n",
    " - a = a + 1とすると変数aに1を足した数をaに代入します\n",
    " - この処理は a += 1 という形で書くことができます\n",
    " - +=のような演算子を複合代入演算子と呼びます"
   ]
  },
  {
   "cell_type": "code",
   "execution_count": null,
   "metadata": {
    "id": "unPIYYbTzPwY"
   },
   "outputs": [],
   "source": [
    "# 例文：複合代入演算子を使って計算します\n",
    "a = 10\n",
    "a += 2\n",
    "\n",
    "# print()の中に,を入れると、文字列と変数を一緒に出力できます\n",
    "print(\"+=の結果\", a)\n",
    "a -= 2\n",
    "print(\"-=の結果\", a)\n",
    "a *= 2\n",
    "print(\"*=の結果\", a)\n",
    "a /= 2\n",
    "print(\"/=の結果\", a)"
   ]
  },
  {
   "cell_type": "markdown",
   "metadata": {},
   "source": [
    ">Q9:複合代入演算子を使って、変数aに2を代入した後、aに5をかけた結果を出力しなさい"
   ]
  },
  {
   "cell_type": "code",
   "execution_count": null,
   "metadata": {
    "id": "93gdSbCs1swY"
   },
   "outputs": [],
   "source": [
    "a = 2\n",
    "print('aの値',a)\n",
    "a *= 5\n",
    "print('a*=5の値', a)"
   ]
  },
  {
   "cell_type": "markdown",
   "metadata": {
    "id": "gHPQ6fLa2Evs"
   },
   "source": [
    "> 2-5: 演算子の優先順位\n",
    " - 普通の四則演算と同様に、pythonの演算子にも優先順位があります\n",
    " - 演算子の優先順位(順位が上にある演算子の方が先に計算されます)\n",
    "     1. べき乗の演算子：  \\*\\*\n",
    "     2. 乗除、余りの演算子： \\*,　/,　%\n",
    "     3. 加減の演算子： +,　-\n",
    " - ()を使うと()内を先に計算できます"
   ]
  },
  {
   "cell_type": "code",
   "execution_count": null,
   "metadata": {
    "id": "P_fab2mWzLTw"
   },
   "outputs": [],
   "source": [
    "# 例文：計算の順序を確認します\n",
    "a = 5\n",
    "b = 3\n",
    "c = 2\n",
    "# 計算式が長いときなどは、以下のように別の変数に計算結果を代入します\n",
    "result = a * b - c\n",
    "print(result)\n",
    "result = (a - b) ** c\n",
    "print('(a - b) ** c=', result)"
   ]
  },
  {
   "cell_type": "markdown",
   "metadata": {},
   "source": [
    ">Q10:変数a, b, cに7, 5, 3を代入し、(a + b) ** cの結果を出力しなさい\n"
   ]
  },
  {
   "cell_type": "code",
   "execution_count": null,
   "metadata": {
    "id": "77c9Jxvz4V7A"
   },
   "outputs": [],
   "source": [
    "a = 7\n",
    "b = 5\n",
    "c = 3\n",
    "result = (a + b) ** c"
   ]
  },
  {
   "cell_type": "markdown",
   "metadata": {
    "id": "END4VRQO4xxk"
   },
   "source": [
    "## Lesson 3:データの型"
   ]
  },
  {
   "cell_type": "markdown",
   "metadata": {
    "id": "eD4Tuj4bg79I"
   },
   "source": [
    "### 文字列の取り扱い"
   ]
  },
  {
   "cell_type": "markdown",
   "metadata": {
    "id": "jKOpcGLi3KsJ"
   },
   "source": [
    "> 3-1: 文字列の連結\n",
    " - pythonでは数値のように文字列同士を足すことができます\n",
    " - \\*を使うと、文字列を繰り返すことができます"
   ]
  },
  {
   "cell_type": "code",
   "execution_count": null,
   "metadata": {
    "id": "yvykDnKY3I9Y"
   },
   "outputs": [],
   "source": [
    "# 例文：文字列の連結と掛け算\n",
    "# 変数a, b, c に文字列を代入\n",
    "a = '天気は'\n",
    "b = '晴れ'\n",
    "c = '雨'\n",
    "\n",
    "# 文字列の変数同士を+で連結できる\n",
    "print(a + b)\n",
    "# 文字列+変数でも連結できる\n",
    "print('今日の' + a + c + 'です')\n",
    "# 文字列*数値で繰り返す\n",
    "print('今日の' + a + c * 4)"
   ]
  },
  {
   "cell_type": "markdown",
   "metadata": {},
   "source": [
    ">Q11:文字列の変数と掛け算を使って以下の文章を出力しなさい\n",
    "- 今日の佐藤はヒット　ヒット　ヒット　ヒット　でした"
   ]
  },
  {
   "cell_type": "code",
   "execution_count": null,
   "metadata": {
    "id": "kxK3hDLr4lQ0"
   },
   "outputs": [],
   "source": [
    "name = '佐藤'\n",
    "hit = 'ヒット　'\n",
    "print('今日の' + name + 'は' + hit * 4 + 'でした')"
   ]
  },
  {
   "cell_type": "markdown",
   "metadata": {
    "id": "spLoHw6D5Ynm"
   },
   "source": [
    "> 3-2: 文字列の抽出\n",
    " - 文字列[数値]で数値の場所を抜き出すことができます\n",
    " - pythonでは0から数え始めます\n",
    "  - python[0]で抜き出されるのは'p'になります\n",
    " - スライスを使うと複数の文字を抜くことができます\n",
    "  - [開始:終了] という形で表します。終了の数字の手前まで抜き出します。\n",
    "  - 例：python[0:2]で'py'を抜くことができます\n",
    "     - 0（1文字目）から2（3文字目）の手前まで抜く→1文字目～2文字目を抜き出す。\n",
    "  - スライスについての参考サイト\n",
    "      - https://qiita.com/tanuk1647/items/276d2be36f5abb8ea52e\n",
    " - 文字の指定には-を使うこともできます\n",
    "  - python[-1]では最後から1番目の'n'が抜き出されます"
   ]
  },
  {
   "cell_type": "code",
   "execution_count": null,
   "metadata": {
    "id": "oWQoxwh46FnH"
   },
   "outputs": [],
   "source": [
    "# 例文：メールアドレスから特定の文字を抜き出す\n",
    "# 変数mail_addressにメールアドレスを代入\n",
    "mail_address = 'test.hoge@hoge.com'\n",
    "\n",
    "# mail_addressの最初と最後の1文字目を出力\n",
    "print(mail_address[0])\n",
    "print(mail_address[-1])\n",
    "\n",
    "# 6文字目から9文字目を出力\n",
    "print(mail_address[5:9])\n",
    "# [-n:]で最後からn文字を出力\n",
    "print(mail_address[-3:])\n",
    "# [:-n]で最初からn文字目までを出力\n",
    "print(mail_address[:-3])"
   ]
  },
  {
   "cell_type": "markdown",
   "metadata": {},
   "source": [
    ">Q12:'1991年1月2日'という文字列を変数dateに代入して、'1991'と'2日'という文字を出力しなさい"
   ]
  },
  {
   "cell_type": "code",
   "execution_count": null,
   "metadata": {
    "id": "umeWWSmk8lTT"
   },
   "outputs": [],
   "source": [
    "date = '1991年1月2日'\n",
    "# 先頭4文字\n",
    "print(date[0:4])\n",
    "# ラスト2文字\n",
    "print(date[-2:])"
   ]
  },
  {
   "cell_type": "markdown",
   "metadata": {
    "id": "Li1tRjro9SL7"
   },
   "source": [
    "### 関数とメソッド\n",
    "- pythonではオブジェクトに対して扱える便利な関数、メソッドがあります\n",
    "  - オブジェクトはここではデータ(変数や値)という認識で大丈夫です。\n",
    "    - ※オブジェクトについての詳しい説明は各自お調べください。\n",
    "  - オブジェクトのデータ型によって、使用できるメソッドが変わってきます。\n",
    "    - 変数名.メソッド名() という形で記述します\n",
    "  - 関数はオブジェクトを指定しなくても使えるメソッドです。\n",
    "    - 関数名()　で記述します\n",
    "    - print()も関数の1つです\n",
    "- 文字列に使える関数やメソッドには便利なものがたくさんあるので、ここで学んでいきましょう。"
   ]
  },
  {
   "cell_type": "markdown",
   "metadata": {
    "id": "p-VHi_Bs9tOS"
   },
   "source": [
    "> 3-3: len関数で長さを求める\n",
    "- len(文字列)で文字列の長さを求めることができます"
   ]
  },
  {
   "cell_type": "code",
   "execution_count": null,
   "metadata": {
    "id": "eAbOhpqx9rnn"
   },
   "outputs": [],
   "source": [
    "# 例文：メールアドレスの長さを求める\n",
    "mail_address = 'test.hoge@hoge.com'\n",
    "print(len(mail_address), '文字です。')"
   ]
  },
  {
   "cell_type": "markdown",
   "metadata": {},
   "source": [
    ">Q13:以下の文字列の長さを求めなさい\n",
    "- 'SVN1604V-5 QZ RR'"
   ]
  },
  {
   "cell_type": "code",
   "execution_count": null,
   "metadata": {
    "id": "AeBE5ZF--PXR"
   },
   "outputs": [],
   "source": [
    "product_name = 'SVN1604V-5 QZ RR'\n",
    "print(len(product_name), '文字です。')"
   ]
  },
  {
   "cell_type": "markdown",
   "metadata": {
    "id": "KmTVJdiQ_BUX"
   },
   "source": [
    "> 3-4: splitメソッドで文字列を分割する\n",
    "- 文字列.split(区切り文字)で文字列を区切り文字で分割できます\n",
    "  - 例：文字列.split('X')でXで文字列を分割します\n",
    "  - 分割された文字列はリストに格納されます\n",
    "    - リストについては後述します"
   ]
  },
  {
   "cell_type": "code",
   "execution_count": null,
   "metadata": {
    "id": "BiGMMJXK_hV6"
   },
   "outputs": [],
   "source": [
    "# 例文：文字列を分割して出力します\n",
    "test = 'SBN-1604V-5-QZ'\n",
    "print(test.split('-'))"
   ]
  },
  {
   "cell_type": "markdown",
   "metadata": {},
   "source": [
    ">Q14:以下の文字列をスペースで分割して出力しなさい\n",
    "- 'SDA 1510 V Z -3 TT G0'"
   ]
  },
  {
   "cell_type": "code",
   "execution_count": null,
   "metadata": {
    "id": "tRDse6z3AbF4"
   },
   "outputs": [],
   "source": [
    "product_name = 'SDA 1510 V Z -3 TT G0'\n",
    "print(product_name.split(' '))"
   ]
  },
  {
   "cell_type": "markdown",
   "metadata": {
    "id": "3u25MRN4A2sz"
   },
   "source": [
    "> 3-5: join()メソッドで文字列を連結する\n",
    "- 文字列.split(区切り文字)で分割したリストをjoin()で連結できます\n",
    "  - '連結に使用する文字列'.join(リスト)で連結できます\n",
    "  - 例：'X'.join(リスト)でリストの文字列同士をXで連結する"
   ]
  },
  {
   "cell_type": "code",
   "execution_count": null,
   "metadata": {
    "id": "1fdBGdRhAUG2"
   },
   "outputs": [],
   "source": [
    "# 例文：SBN-1604V-5-QZをアンダーバーでつなげる\n",
    "\n",
    "# 3-4のおさらい。文字列をハイフンで分割する\n",
    "test = 'SBN-1604V-5-QZ'\n",
    "test = test.split('-')\n",
    "print(test)\n",
    "\n",
    "# リストの文字列同士を_で連結する\n",
    "test = '_'.join(test)\n",
    "print(test)"
   ]
  },
  {
   "cell_type": "markdown",
   "metadata": {},
   "source": [
    ">Q15:以下の文字列を'+'で分割して出力し、その後'*'で連結して出力しなさい\n",
    "- '1+2+3=6'"
   ]
  },
  {
   "cell_type": "code",
   "execution_count": null,
   "metadata": {
    "id": "y2RAWsG41yDN"
   },
   "outputs": [],
   "source": [
    "formula = '1+2+3=6'\n",
    "formula = formula.split('+')\n",
    "print(formula)\n",
    "\n",
    "formula = '*'.join(formula)\n",
    "print(formula)"
   ]
  },
  {
   "cell_type": "markdown",
   "metadata": {
    "id": "toTfEvYUDE0N"
   },
   "source": [
    "> 3-6: replace()メソッドで文字列の一部を置き換える\n",
    "- 対象の文字列.replace(置き換え前の文字列, 置き換え後の文字列, 置き換える回数)\n",
    "- 置き換える回数を指定しないと、すべての文字が置き換わります"
   ]
  },
  {
   "cell_type": "code",
   "execution_count": null,
   "metadata": {
    "id": "rhQYRf-N0fMC"
   },
   "outputs": [],
   "source": [
    "# 例文：'咲いた、咲いた、咲いた、咲いた、チューリップの花'を置き換えます\n",
    "test = '咲いた、咲いた、咲いた、咲いた、チューリップの花'\n",
    "\n",
    "# 1回入れ替えます\n",
    "print(test.replace('咲いた', '枯れた', 1))\n",
    "# 2回入れ替えます\n",
    "print(test.replace('咲いた', '枯れた', 2))\n",
    "# 全部入れ替えます\n",
    "print(test.replace('咲いた', '枯れた'))"
   ]
  },
  {
   "cell_type": "markdown",
   "metadata": {},
   "source": [
    ">Q16:以下の文字列の'R'を全て'W'に置き換えて出力しなさい\n",
    "- 'SBN1604V-5 RR'"
   ]
  },
  {
   "cell_type": "code",
   "execution_count": null,
   "metadata": {
    "id": "OyKoAisH1ajW"
   },
   "outputs": [],
   "source": [
    "product_name = 'SBN1604V-5 RR'\n",
    "print(product_name.replace('R', 'W'))"
   ]
  },
  {
   "cell_type": "markdown",
   "metadata": {
    "id": "kvaAwVfa1tt6"
   },
   "source": [
    "> 3-7-1: formatを使った文字列の整形_その1\n",
    "  - formatを使うと文字列と変数を組み合わせた複雑な文章を表現できます\n",
    "  - format文についての参考サイト\n",
    "      - https://gammasoft.jp/blog/python-string-format/"
   ]
  },
  {
   "cell_type": "code",
   "execution_count": null,
   "metadata": {
    "id": "PFfrS2nr2x9a"
   },
   "outputs": [],
   "source": [
    "# 例文： 変数と文字列の組み合わせ1\n",
    "\n",
    "# ageに年齢を代入し、文字列と連結して出力します。\n",
    "# 文字列と連結するときは、変数も文字列型である必要があります\n",
    "age = '12'\n",
    "print(type(age))\n",
    "print(\"直動太郎は\" + age + \"歳です\")\n",
    "\n",
    "# 例文： ','でも変数と文字列を組み合わせて出力できます\n",
    "# カンマを使うときは、数値と文字列を組み合わせできます\n",
    "age = 12\n",
    "print(type(age))\n",
    "print('直動太郎は', age, '歳です')  # 但し、文字列と変数の間にはスペースが入ってしまいます\n",
    "\n",
    "# 例文：format文を使うと、変数と文字列の組み合わせを以下のように書けます\n",
    "print('直動太郎は{}歳です'.format(age)) # formatを使うとスペースを入れずに出力できます"
   ]
  },
  {
   "cell_type": "markdown",
   "metadata": {},
   "source": [
    "> 3-7-2: formatを使った文字列の整形_その2\n",
    "  - formatを応用することで、様々な表現が可能になります。\n",
    "      - 複数の変数と文字列を組み合わせることができます。\n",
    "      - 表示する小数点の桁数を変えることができます。"
   ]
  },
  {
   "cell_type": "code",
   "execution_count": null,
   "metadata": {},
   "outputs": [],
   "source": [
    "# 例文：複数の変数と文字列を組み合わせできます\n",
    "age = 12\n",
    "height = 1.42\n",
    "#{0}と{1}がそれぞれage, heightに対応しています\n",
    "print('直動太郎は{0}歳、身長は{1}mです'.format(age, height))\n",
    "\n",
    "# 例文：formatを使うと表示する小数の桁数を変えられます\n",
    "# {:.1f}で小数点1桁を表示します。数字を変えると桁数が変わります\n",
    "print('直動太郎は{0}歳、身長は{1:.1f}mです'.format(age, height))\n",
    "\n",
    "# 例文：同じ変数を繰り返し指定することもできます\n",
    "print('直動太郎は{0}歳、直動花子も{0}歳です'.format(age))"
   ]
  },
  {
   "cell_type": "markdown",
   "metadata": {},
   "source": [
    ">Q17:変数piに3.14を代入し、formatを使用して'円周率3.14はほぼ3です'という文字列を出力しなさい"
   ]
  },
  {
   "cell_type": "code",
   "execution_count": null,
   "metadata": {
    "id": "qQeA6P0a7pHG"
   },
   "outputs": [],
   "source": [
    "pi = 3.14\n",
    "print('円周率{0}はほぼ{0:.0f}です'.format(pi))"
   ]
  },
  {
   "cell_type": "markdown",
   "metadata": {
    "id": "RgPW6OL78DuQ"
   },
   "source": [
    "### その他のデータ型\n",
    "- 文字列と数値以外のデータ型について説明します"
   ]
  },
  {
   "cell_type": "markdown",
   "metadata": {
    "id": "xpvdtwp68pKa"
   },
   "source": [
    "> 3-8: bool値\n",
    "  - TrueかFalseの2値で表現するデータ型をbool(ブール)型と呼びます。\n",
    "  - 条件が正しいときTrue, 違うときFalseで表現します"
   ]
  },
  {
   "cell_type": "code",
   "execution_count": null,
   "metadata": {
    "id": "pgApmxbX8ntO"
   },
   "outputs": [],
   "source": [
    "# 変数xの中身が正しいか判定する\n",
    "x = 1\n",
    "# xが1かどうか判定する。※判定の仕方については後述します\n",
    "print(x == 1)\n",
    "print(type(x == 1))"
   ]
  },
  {
   "cell_type": "markdown",
   "metadata": {
    "id": "4IzOiiI89p9h"
   },
   "source": [
    "> 3-9: 比較演算子\n",
    "  - 2つの値を比較して、正しいか間違っているか判定する演算子を比較演算子と呼びます\n",
    "    - 同一かどうか\n",
    "      - **a == b** ： aとbが同じかどうか\n",
    "      - **a != b** ： aとbが異なるか\n",
    "    - より大きい、小さい\n",
    "      - **a > b** ： aがbより大きいか\n",
    "      - **a < b** ： aがbより小さいか\n",
    "    - 以上、以下\n",
    "      - **a >= b** ： aがb以上か\n",
    "      - **a <= b** ： aがb以下か\n",
    "    - 含まれる、含まれない\n",
    "      - **a in b** ： aがbに含まれるか\n",
    "      - **a not in b**： aがbに含まれないか"
   ]
  },
  {
   "cell_type": "code",
   "execution_count": null,
   "metadata": {
    "id": "LzIvuPvz_wG8"
   },
   "outputs": [],
   "source": [
    "# 例文：二つの変数を様々な比較演算子で比較します\n",
    "a = 10\n",
    "b = 5\n",
    "print('a={0}, b={1}です。'.format(a, b))\n",
    "\n",
    "# aとbが同一か\n",
    "print('aとbは同じ数?', a == b)\n",
    "# aとbが異なるか\n",
    "print('aとbは違う数?', a != b)\n",
    "# aがbより大きいか\n",
    "print('aはbより大きい?', a > b)\n",
    "# aがbより小さいか\n",
    "print('aはbより小さい?', a < b)"
   ]
  },
  {
   "cell_type": "code",
   "execution_count": null,
   "metadata": {
    "id": "iZhFoQBWBHOA"
   },
   "outputs": [],
   "source": [
    "# 例文：ある文字列が別の文字列に含まれるか判定する\n",
    "a = '.com'\n",
    "b = 'test.hoge@hoge.com'\n",
    "print('{0}は{1}に含まれますか？'.format(a, b))\n",
    "print(a in b)"
   ]
  },
  {
   "cell_type": "markdown",
   "metadata": {},
   "source": [
    ">Q18:'T'という文字が'THK'に含まれるか判定しなさい"
   ]
  },
  {
   "cell_type": "code",
   "execution_count": null,
   "metadata": {
    "id": "6cku4sBeBWaS"
   },
   "outputs": [],
   "source": [
    "comp_name = 'THK'\n",
    "print('T' in comp_name)"
   ]
  },
  {
   "cell_type": "markdown",
   "metadata": {
    "id": "cf2Ji-TyBF6E"
   },
   "source": [
    "> 3-10: 型変換\n",
    "  - 型変換をすることにより、データ型を変換することができます\n",
    "    - int型(整数型)に変換するときは int(変数)\n",
    "    - float型(小数型)に変換するときはfloat(変数)\n",
    "    - str型(文字列型)に変換するときはstr(変数)\n",
    "  - 変数のデータ型の確認はtype()関数を使います"
   ]
  },
  {
   "cell_type": "code",
   "execution_count": null,
   "metadata": {
    "id": "oH0-D3KMCMOZ"
   },
   "outputs": [],
   "source": [
    "# 例文：データ型を変換して出力します\n",
    "age = 12\n",
    "\n",
    "# 整数型として出力\n",
    "print(age)\n",
    "print(type(age))\n",
    "\n",
    "# 小数に変換\n",
    "age = float(age)\n",
    "print(age)\n",
    "print(type(age))\n",
    "\n",
    "# 文字列に変換\n",
    "age = str(age)\n",
    "print(age)\n",
    "print(type(age))"
   ]
  },
  {
   "cell_type": "code",
   "execution_count": null,
   "metadata": {
    "id": "Rh0CanWfC22_"
   },
   "outputs": [],
   "source": [
    "# 例文：変数が整数型でも文字列に変換すれば出力できます\n",
    "# ageに整数を代入\n",
    "age = 12\n",
    "\n",
    "# このままでは文字型+数値型になりエラーがでます\n",
    "# print('直動太郎は'+ age + '歳です。')\n",
    "\n",
    "# str型に変換するとエラーがでません\n",
    "print('直動太郎は' + str(age) + '歳です。')"
   ]
  },
  {
   "cell_type": "markdown",
   "metadata": {},
   "source": [
    ">Q19:変数piに小数で3.14を代入し、'円周率は3.14です'という文字列を型変換を使って出力しなさい\n"
   ]
  },
  {
   "cell_type": "code",
   "execution_count": null,
   "metadata": {
    "id": "fbeLN2mbCjpy"
   },
   "outputs": [],
   "source": [
    "pi = 3.14\n",
    "print('円周率は' + str(pi) + 'です')"
   ]
  },
  {
   "cell_type": "markdown",
   "metadata": {
    "id": "dDGOHmTPEkiu"
   },
   "source": [
    "## Lesson 4:条件分岐、繰り返し、リスト、辞書"
   ]
  },
  {
   "cell_type": "markdown",
   "metadata": {
    "id": "9iH3mKYCg3cg"
   },
   "source": [
    "### 条件分岐"
   ]
  },
  {
   "cell_type": "markdown",
   "metadata": {
    "id": "cmxI8wi3HpO8"
   },
   "source": [
    "> 4-1:if文\n",
    "- if文を使うと「ある条件が正しいとき実行」という処理をすることができます。\n",
    "- if文の中身の記述はインデント（段落）下げをします。Tabキーを押すとインデントが下がります。\n",
    "    - インデントの位置が正しくないとエラーを起こしてしまうので気をつけてください。"
   ]
  },
  {
   "cell_type": "code",
   "execution_count": null,
   "metadata": {
    "id": "rkfvbUkqEs20"
   },
   "outputs": [],
   "source": [
    "# 例文：年齢で小学生か判定します。\n",
    "# 変数ageに年齢を代入\n",
    "age = 12\n",
    "\n",
    "# if文。もしageが12以下なら実行する。':'を忘れずに\n",
    "if age <= 12:\n",
    "    # if文の条件が正しければ実行する。if文の中で実行するコードはインデントを1つ（Tabキー1回）下げる\n",
    "    print('直動太郎は小学生です。')\n",
    "# インデントを上げるとif文の外にでます\n",
    "print('もうif文ではありません')"
   ]
  },
  {
   "cell_type": "markdown",
   "metadata": {},
   "source": [
    ">Q20:変数ageに100を代入して、もしageが80より大きければ、<br>\n",
    " '直動太郎はおじいさんです'<br>\n",
    "と出力するコードを実装しなさい\n",
    "\n"
   ]
  },
  {
   "cell_type": "code",
   "execution_count": null,
   "metadata": {
    "id": "U2R7Jl9pIkPz"
   },
   "outputs": [],
   "source": [
    "age = 100\n",
    "if age > 80:\n",
    "    print('直動太郎はおじいさんです')"
   ]
  },
  {
   "cell_type": "markdown",
   "metadata": {
    "id": "D5ckmGBhJCc-"
   },
   "source": [
    "> 4-2:Else文\n",
    "- Else文を使うと、「条件式が正でない場合」の処理をできます。"
   ]
  },
  {
   "cell_type": "code",
   "execution_count": null,
   "metadata": {
    "id": "PfslDds8JSiT"
   },
   "outputs": [],
   "source": [
    "# 例文：年齢で小学生か判定します\n",
    "age = 13\n",
    "\n",
    "# ageが12以下なら実行する\n",
    "if age <= 12:\n",
    "    print('直動太郎は小学生です')\n",
    "\n",
    "# ageが12以下ではない場合実行します。\n",
    "# elseとifのインデントは一致させます。\n",
    "else:\n",
    "    # elseで実行するコードもインデント下げをします\n",
    "    print('直動太郎は小学生ではありません')"
   ]
  },
  {
   "cell_type": "markdown",
   "metadata": {},
   "source": [
    ">Q21:変数ageに50を代入して、もしageが80より大きければ、<br>\n",
    "'直動太郎はおじいさんです'<br>\n",
    "それ以外の場合は、<br>\n",
    "'直動太郎はおじいさんではありません'<br>\n",
    "と出力するコードを実装しなさい。ageの数を変えてみて出力が変わることを確認しなさい。"
   ]
  },
  {
   "cell_type": "code",
   "execution_count": null,
   "metadata": {
    "id": "yIhOjl7QKLea"
   },
   "outputs": [],
   "source": [
    "age = 50 #この値を変えると出力される文が変わります\n",
    "if age > 80:\n",
    "    print('直動太郎はおじいさんです')\n",
    "else:\n",
    "    print('直動太郎はおじいさんではありません')"
   ]
  },
  {
   "cell_type": "markdown",
   "metadata": {
    "id": "flany07HKYXJ"
   },
   "source": [
    "> 4-3:elif文\n",
    "- if文とelif文を組み合わせると、条件1が間違っていた場合、条件2で判定…というように、複数の条件式を組み合わせることができます。"
   ]
  },
  {
   "cell_type": "code",
   "execution_count": null,
   "metadata": {
    "id": "eXrXnlUxKXAx"
   },
   "outputs": [],
   "source": [
    "# 例文：年齢で小学生か判定します\n",
    "age = 5\n",
    "# 年齢が6歳未満のとき\n",
    "if age < 6:\n",
    "    print('直動太郎は未就学児です')\n",
    "# 年齢が6歳以上で、12歳以下のとき\n",
    "elif age <= 12:\n",
    "    print('直動太郎は小学生です')\n",
    "# その他（13歳以上のとき）\n",
    "else:\n",
    "    print('直動太郎は中学生以上です')"
   ]
  },
  {
   "cell_type": "markdown",
   "metadata": {},
   "source": [
    ">Q22:変数ageに60を代入して、もしageが80より大きければ、<br>\n",
    "'直動太郎はおじいさんです'<br>\n",
    "また、もしageが50より大きければ、<br>\n",
    "'直動太郎はおじさんです'<br>\n",
    "それ以外の場合は、<br>\n",
    "'直動太郎はおにいさんです'<br>\n",
    "と出力するコードを実装しなさい。また、ageの数を変えてみて出力が変わることを確認しなさい。"
   ]
  },
  {
   "cell_type": "code",
   "execution_count": null,
   "metadata": {
    "id": "SM6XzAJFLa7C"
   },
   "outputs": [],
   "source": [
    "age = 60 # この値が変わると出力される文が変わります\n",
    "if age > 80:\n",
    "    print('直動太郎はおじいさんです')\n",
    "elif age > 50:\n",
    "    print('直動太郎はおじさんです')\n",
    "else:\n",
    "    print('直動太郎はおにいさんです')"
   ]
  },
  {
   "cell_type": "markdown",
   "metadata": {
    "id": "SvZx0eCIMCHM"
   },
   "source": [
    "> 4-4:論理演算子\n",
    "- 論理演算子を使うと、同時に複数の条件を判定することができます\n",
    "  - (条件1) and (条件2) : 条件1と2、どちらも正のとき実行\n",
    "  - (条件1) or (条件2) : 条件1と2、どちらか正なら実行\n",
    "  - not (条件1) : 条件1が正でないなら実行"
   ]
  },
  {
   "cell_type": "code",
   "execution_count": null,
   "metadata": {
    "id": "XHwzbo_6MwNT"
   },
   "outputs": [],
   "source": [
    "# 例文：男子小学生かどうか判定します\n",
    "age = 12\n",
    "sex = 'male'\n",
    "\n",
    "# 年齢が12歳以下かつ、性別が男性か判定します\n",
    "if age <= 12 and sex == 'male':\n",
    "    print('直動太郎は男子小学生です')\n",
    "\n",
    "# 年齢が12歳以下か、性別が女性か判定します\n",
    "if age <= 12 or sex == 'female':\n",
    "    print('直動太郎は女性か、小学生です')\n",
    "\n",
    "# 女性ではないか判定します\n",
    "if not sex == 'female':\n",
    "    print('直動太郎は女性ではありません')"
   ]
  },
  {
   "cell_type": "markdown",
   "metadata": {},
   "source": [
    ">Q23:変数text1に'数学', text2に'国語'を代入して、text1か2が'数学'なら<br>\n",
    "'直動太郎は中学生です'<br>\n",
    "と出力するコードを実装しなさい"
   ]
  },
  {
   "cell_type": "code",
   "execution_count": null,
   "metadata": {
    "id": "hf1218uBNbbb"
   },
   "outputs": [],
   "source": [
    "text1 = '数学'\n",
    "text2 = '国語'\n",
    "if text1 == '数学' or text2 == '数学':\n",
    "    print('直動太郎は中学生です')"
   ]
  },
  {
   "cell_type": "markdown",
   "metadata": {
    "id": "Zu-R-TY0O-H6"
   },
   "source": [
    "### 繰り返し"
   ]
  },
  {
   "cell_type": "markdown",
   "metadata": {
    "id": "uQXSTNihQg27"
   },
   "source": [
    "> 4-5:for文\n",
    "- for文を使うと、同じ操作を繰り返し実行できます\n",
    "  - for 変数 in range(繰り返し設定):\n",
    "  - 例：for i in range(10):\n",
    "      - iに0, 1, 2, ... 8, 9が順繰りに代入される。for文の中身を繰り返し実行する。\n",
    "      - 参考サイト\n",
    "          - https://udemy.benesse.co.jp/development/python-work/python-for.html"
   ]
  },
  {
   "cell_type": "code",
   "execution_count": null,
   "metadata": {
    "id": "Ejo2J91APrUx"
   },
   "outputs": [],
   "source": [
    "# 例文：10回スクワットします\n",
    "for i in range(10):\n",
    "    # if文と同様に、for文内ではインデントを下げます\n",
    "    # iには0~9が順繰りに代入されます\n",
    "    print('iの中身', i)\n",
    "    # スクワットを10回出力します\n",
    "    print('スクワット')\n",
    "# インデントを上げるとfor文の外の処理になります\n",
    "print('for文の外です')"
   ]
  },
  {
   "cell_type": "markdown",
   "metadata": {
    "id": "uwjRSYZKROQo"
   },
   "source": [
    "> 4-6:rangeとfor文\n",
    "- rangeは数字の並び(リスト)を作る関数です\n",
    "- range(初め、終わり、ステップ)で指定できます\n",
    "- for 変数 in range(): の変数は、rangeの中身を表します"
   ]
  },
  {
   "cell_type": "code",
   "execution_count": null,
   "metadata": {
    "id": "52yc5gvdRfXh"
   },
   "outputs": [],
   "source": [
    "# 例文：rangeの中身を出力する\n",
    "\n",
    "# range(1,11)は1~10の数字のリストです\n",
    "# for (変数) in の変数は好きな変数を用いることができます\n",
    "# numberには1, 2, 3...10と順に値が代入されます\n",
    "for number in range(1, 11):\n",
    "    # numberを出力します\n",
    "    print(number, '回目のステップです')\n",
    "    print('スクワット')"
   ]
  },
  {
   "cell_type": "code",
   "execution_count": null,
   "metadata": {
    "id": "hfamI6JgbEsS"
   },
   "outputs": [],
   "source": [
    "# 例文：rangeの中身を出力する\n",
    "\n",
    "# 1~10の数字を1つ飛ばしでnumberに代入する\n",
    "for number in range(1, 11, 2):\n",
    "    # numberを出力します\n",
    "    print(number, '回目のステップです')\n",
    "    print('スクワット')"
   ]
  },
  {
   "cell_type": "markdown",
   "metadata": {},
   "source": [
    ">Q24:for文を使って、10回素振りをするプログラムを作成しなさい<br>\n",
    "'1回目の素振り'というように、回数が表示されるようにしなさい<br>\n",
    "また、10回素振りが終了したら、<br>\n",
    "'素振り終了します'と出力するようにしなさい"
   ]
  },
  {
   "cell_type": "code",
   "execution_count": null,
   "metadata": {
    "id": "u4jAICL2TONV"
   },
   "outputs": [],
   "source": [
    "for number in range(1, 11):\n",
    "    print(number, '回目の素振りです')\n",
    "print('素振り終了します')"
   ]
  },
  {
   "cell_type": "markdown",
   "metadata": {
    "id": "nYAYlmjmTiFO"
   },
   "source": [
    "> 4-7:if文とfor文の組み合わせ\n",
    "- if文とfor文を組み合わせると、繰り返しの中で、ある条件が正しいときだけ実行、というプログラムが作れます"
   ]
  },
  {
   "cell_type": "code",
   "execution_count": null,
   "metadata": {
    "id": "Bm-0E8CVT1Ai"
   },
   "outputs": [],
   "source": [
    "# 例文：スクワットと腹筋を5回ずつやる\n",
    "training1 = 'スクワット'\n",
    "training2 = '腹筋'\n",
    "\n",
    "# numberには0~9が順番に代入されます\n",
    "for number in range(10):\n",
    "    # numberが5より小さいと実行されます\n",
    "    if number < 5:\n",
    "        print(training1)\n",
    "    # numberが5以上だと実行されます\n",
    "    else:\n",
    "        print(training2)"
   ]
  },
  {
   "cell_type": "code",
   "execution_count": null,
   "metadata": {
    "id": "lFTguo2CWDN_"
   },
   "outputs": [],
   "source": [
    "# 例文：スクワットと腹筋を交互にやる\n",
    "training1 = 'スクワット'\n",
    "training2 = '腹筋'\n",
    "\n",
    "for number in range(10):\n",
    "    # numeberを2で割ったときの余りが0、つまりnumberが偶数のとき実行\n",
    "    if number % 2 == 0:\n",
    "        print(training1)\n",
    "    # numberが奇数のとき実行\n",
    "    else:\n",
    "        print(training2)"
   ]
  },
  {
   "cell_type": "markdown",
   "metadata": {},
   "source": [
    ">Q25:for文とif文を組み合わせて、「素振り」と「走り込み」を交互に計10回出力するプログラムを作成しなさい"
   ]
  },
  {
   "cell_type": "code",
   "execution_count": null,
   "metadata": {
    "id": "CDFEsnRYXEc_"
   },
   "outputs": [],
   "source": [
    "training1 = '素振り'\n",
    "training2 = '走り込み'\n",
    "for number in range(10):\n",
    "    if number % 2 == 0:\n",
    "        print(training1)\n",
    "    else:\n",
    "        print(training2)"
   ]
  },
  {
   "cell_type": "markdown",
   "metadata": {
    "id": "eIn2oq0uXROC"
   },
   "source": [
    "> 4-8:break\n",
    "- for文の途中で処理をやめたい場合、breakを使います"
   ]
  },
  {
   "cell_type": "code",
   "execution_count": null,
   "metadata": {
    "id": "rGuFC2G2XdgT"
   },
   "outputs": [],
   "source": [
    "# 例文：腹筋を10回やるつもりだったけど、5回で疲れたのでやめるプログラム\n",
    "training = '腹筋'\n",
    "for number in range(10):\n",
    "    # 腹筋する\n",
    "    print(training)\n",
    "    # 回数が5回以上ならやめます\n",
    "    if number >= 4:\n",
    "        print('疲れたのでやめます')\n",
    "        break  # breakでfor文を抜ける\n",
    "\n",
    "print('筋トレ終わります')"
   ]
  },
  {
   "cell_type": "markdown",
   "metadata": {
    "id": "zka7gTXvZPaA"
   },
   "source": [
    "> 4-9:continue\n",
    "- for文中で特定の条件ではスキップしたいとき、continueを使います"
   ]
  },
  {
   "cell_type": "code",
   "execution_count": null,
   "metadata": {
    "id": "cwf5bW43ZdCX"
   },
   "outputs": [],
   "source": [
    "# 腹筋を5回したら1回休憩するプログラム\n",
    "training = '腹筋'\n",
    "for number in range(10):\n",
    "    # 6回目なら休憩して、以下の処理(腹筋する)をスキップする\n",
    "    if number == 5:\n",
    "        print('休憩')\n",
    "        continue\n",
    "    # 腹筋する\n",
    "    print(training)\n",
    "print('筋トレ終わります')"
   ]
  },
  {
   "cell_type": "markdown",
   "metadata": {},
   "source": [
    ">Q26:for文とif文,continueを組み合わせて6回連続で素振りし、1回休憩、その後連続で3回素振りを出力するプログラムを作成しなさい"
   ]
  },
  {
   "cell_type": "code",
   "execution_count": null,
   "metadata": {
    "id": "i93isMFxaQuy"
   },
   "outputs": [],
   "source": [
    "training = '素振り'\n",
    "for number in range(10):\n",
    "    if number == 6:\n",
    "        print('休憩')\n",
    "        continue\n",
    "    print(training)"
   ]
  },
  {
   "cell_type": "markdown",
   "metadata": {
    "id": "brDQb_BQa1MR"
   },
   "source": [
    "### リスト\n",
    "- 複数の値をまとめて、リストというデータ型を作ることができます\n",
    "- リストとfor文を組み合わせることにより、複雑な繰り返しの処理ができます"
   ]
  },
  {
   "cell_type": "markdown",
   "metadata": {
    "id": "fQtvaA1EcKGq"
   },
   "source": [
    "> 4-10:リスト\n",
    "- 複数の値を順番に並べたものをリストと呼びます。\n",
    "- リストには数値や文字列を組み合わせて、複数入れることができます。"
   ]
  },
  {
   "cell_type": "code",
   "execution_count": null,
   "metadata": {
    "id": "t2UwCE8ocI_k"
   },
   "outputs": [],
   "source": [
    "# 例文：リストに複数の値を代入します\n",
    "\n",
    "# リストに代入するときは[]で囲みます\n",
    "list1 = [3, 2, 1, 'GO!']\n",
    "# リストを出力します\n",
    "print(list1)\n",
    "# リストのデータ型はリストになります\n",
    "print(type(list1))"
   ]
  },
  {
   "cell_type": "markdown",
   "metadata": {
    "id": "1PCSGTLRdHAr"
   },
   "source": [
    "> 4-11:リストの抽出\n",
    "- 文字列と同様の方法で、リストから値を抽出することができます\n",
    "  - [0]や、スライスを使います"
   ]
  },
  {
   "cell_type": "code",
   "execution_count": null,
   "metadata": {
    "id": "6RfCTTD3dD9g"
   },
   "outputs": [],
   "source": [
    "# 例文：リストから値を抽出します\n",
    "list1 = [3, 2, 1, 'GO!']\n",
    "\n",
    "# 4番目の値だけ抽出します\n",
    "print(list1[3])\n",
    "# 2番目と3番目の値を抽出します\n",
    "print(list1[1:3])"
   ]
  },
  {
   "cell_type": "markdown",
   "metadata": {},
   "source": [
    ">Q27:下のプログラムの続きを書いて、もしtimeが'夜'なら、'おやすみなさい'と出力するプログラムを完成させなさい"
   ]
  },
  {
   "cell_type": "code",
   "execution_count": null,
   "metadata": {
    "id": "pI7WdcAWd36i"
   },
   "outputs": [],
   "source": [
    "time = '夜'\n",
    "greetings = ['おはよう', 'こんにちは', 'こんばんは', 'おやすみなさい']\n",
    "if time == '夜':\n",
    "    print(greetings[3])"
   ]
  },
  {
   "cell_type": "markdown",
   "metadata": {
    "id": "U_Tekz45edpm"
   },
   "source": [
    "> 4-12:リストの長さを調べる\n",
    "- リストに使える便利な関数やメソッドがあります\n",
    "  - len()でリストの要素数を調べることができます"
   ]
  },
  {
   "cell_type": "code",
   "execution_count": null,
   "metadata": {
    "id": "mLQ2crl3fKF6"
   },
   "outputs": [],
   "source": [
    "list1 = [3, 2, 1, 'GO!']\n",
    "print(len(list1))"
   ]
  },
  {
   "cell_type": "markdown",
   "metadata": {
    "id": "Edruunv7fT9N"
   },
   "source": [
    "> 4-13:出現回数を調べる\n",
    "- リスト.count(変数)でリストに含まれる変数の個数を調べることができます"
   ]
  },
  {
   "cell_type": "code",
   "execution_count": null,
   "metadata": {
    "id": "J5ymNBb7fydl"
   },
   "outputs": [],
   "source": [
    "# 例文：出現個数を調べる\n",
    "list1 = ['上', '上', '下', '下', '左', '右', '左', '右', ]\n",
    "# リストに含まれる'左'の数を調べることができます\n",
    "print(list1.count('左'))"
   ]
  },
  {
   "cell_type": "markdown",
   "metadata": {
    "id": "Mw0vC-7dgZGw"
   },
   "source": [
    "> 4-14:リストへの要素の追加と削除\n",
    "- リスト.append()でリストの末尾に要素を追加します\n",
    "- del リスト[X]でX番目の要素を削除します\n",
    "- リスト.remove()で要素を削除することができます"
   ]
  },
  {
   "cell_type": "code",
   "execution_count": null,
   "metadata": {
    "id": "C2gAhQDY39NY"
   },
   "outputs": [],
   "source": [
    "# 例文：リストに要素を追加する\n",
    "name1 = ['鈴木', '坂本', '岡本']\n",
    "print(name1)\n",
    "\n",
    "# リストの末尾に要素を加えます\n",
    "name1.append('山田')\n",
    "print(name1)\n",
    "\n",
    "# リストからインデックスを指定して削除します\n",
    "del name1[0]  # 0番目の'鈴木'を削除しています\n",
    "\n",
    "# リストから要素を指定して削除します\n",
    "name1.remove('坂本')\n",
    "print(name1)"
   ]
  },
  {
   "cell_type": "markdown",
   "metadata": {},
   "source": [
    ">Q28:リストTHK_productに'リニアブッシュ'と'ボールスプライン'を追加して出力し、その後delで'LMガイド'を、removeで'ボールねじ'を削除して出力しなさい"
   ]
  },
  {
   "cell_type": "code",
   "execution_count": null,
   "metadata": {
    "id": "LB8nP35q5VwG"
   },
   "outputs": [],
   "source": [
    "THK_product = ['LMガイド', 'ボールねじ', 'クロスローラーリング', 'アクチュエータ']\n",
    "THK_product.append('リニアブッシュ')\n",
    "THK_product.append('ボールスプライン')\n",
    "\n",
    "# リスト同士を'+'演算子で連結することもできます\n",
    "# THK_product += ['リニアブッシュ', 'ボールスプライン']\n",
    "# リストをappendすると入れ子になってしまうので、下の書き方ではうまくいきません\n",
    "# THK_product.append(['リニアブッシュ', 'ボールスプライン'])\n",
    "\n",
    "print(THK_product)\n",
    "\n",
    "del THK_product[0]\n",
    "THK_product.remove('ボールスプライン')\n",
    "\n",
    "print(THK_product)"
   ]
  },
  {
   "cell_type": "markdown",
   "metadata": {
    "id": "5x8NUTVFNytO"
   },
   "source": [
    "> 4-15:リストのソート\n",
    "- リスト.sort()でリストをソートします\n"
   ]
  },
  {
   "cell_type": "code",
   "execution_count": null,
   "metadata": {
    "id": "NyoS6usH69n5"
   },
   "outputs": [],
   "source": [
    "# 例文：アルファベットを昇順でソートします\n",
    "list1 = ['c', 'h', 'o', 'k', 'u', 'd', 'o']\n",
    "\n",
    "# リストの文字列を結合して出力します\n",
    "print(\"\".join(list1))\n",
    "\n",
    "# アルファベットの昇順でソートします\n",
    "list1.sort()\n",
    "\n",
    "# 出力します\n",
    "print(list1)\n",
    "print(\"\".join(list1))\n",
    "\n",
    "# 引数を指定すると降順にすることができます\n",
    "list1.sort(reverse=True)\n",
    "\n",
    "# 出力します\n",
    "print(list1)\n",
    "print(\"\".join(list1))"
   ]
  },
  {
   "cell_type": "markdown",
   "metadata": {},
   "source": [
    ">Q29:以下のlist1を文字列に結合して出力しなさい。その後、昇順、降順に並び替えて、それぞれを文字列に結合して出力しなさい"
   ]
  },
  {
   "cell_type": "code",
   "execution_count": null,
   "metadata": {
    "id": "OvrVZMUZREpG"
   },
   "outputs": [],
   "source": [
    "list1 = ['T', 'H', 'K', 'C', 'O', 'L', 'T', 'D']\n",
    "print(\"\".join(list1))\n",
    "list1.sort()\n",
    "print(\"\".join(list1))\n",
    "list1.sort(reverse=True)\n",
    "print(\"\".join(list1))"
   ]
  },
  {
   "cell_type": "markdown",
   "metadata": {
    "id": "vLZhaA2uRrfu"
   },
   "source": [
    "> 4-16:リストから要素を探す\n",
    "- 値 in リスト　を使ってある値がリストに含まれるか調べられます"
   ]
  },
  {
   "cell_type": "code",
   "execution_count": null,
   "metadata": {
    "id": "IusElLgCSDkf"
   },
   "outputs": [],
   "source": [
    "# 例文：食材のリストから、ある食材が含まれるか調べる\n",
    "ingredient1 = ['にんじん', 'じゃがいも', 'たまねぎ', '豚肉']\n",
    "\n",
    "# 答えはブール値(True or False)で返ってきます。\n",
    "print('たまねぎ' in ingredient1)\n",
    "print('鶏肉' in ingredient1)"
   ]
  },
  {
   "cell_type": "markdown",
   "metadata": {},
   "source": [
    ">Q30:以下のTHKの製品リストから、'クロスローラーリング'がリストに含まれているか判定して答えを出力しなさい"
   ]
  },
  {
   "cell_type": "code",
   "execution_count": null,
   "metadata": {
    "id": "WS-fI9o8S8lo"
   },
   "outputs": [],
   "source": [
    "THK_product = ['LMガイド', 'ボールねじ', 'クロスローラーリング', 'アクチュエータ', '免震装置']\n",
    "\n",
    "print('クロスローラーリング' in THK_product)"
   ]
  },
  {
   "cell_type": "code",
   "execution_count": null,
   "metadata": {},
   "outputs": [],
   "source": [
    "# 別解(if文を使うと日本語で答えを出力できます)\n",
    "product_name = 'クロスローラーリング'\n",
    "# prodcut_nameがTHK_productに含まれているかをif文で判定\n",
    "if product_name in THK_product:\n",
    "    print('含まれています')\n",
    "else:\n",
    "    print('含まれていません')"
   ]
  },
  {
   "cell_type": "markdown",
   "metadata": {
    "id": "Q8KzipAGZdmr"
   },
   "source": [
    "> 4-17:リストのコピー\n",
    "- リストをコピーする場合には、copy()というメソッドを使います"
   ]
  },
  {
   "cell_type": "code",
   "execution_count": null,
   "metadata": {
    "id": "aAeo-bwuZ3fa"
   },
   "outputs": [],
   "source": [
    "# 例文：コピーを使わない場合\n",
    "list1 = [1, 2, 3, 4]\n",
    "# xにリストを代入した後、yにxを代入します\n",
    "x = list1\n",
    "y = list1\n",
    "print('x', x)\n",
    "print('y', y)\n",
    "print('xとyは同じ?', x == y)\n",
    "\n",
    "print('====================\\n')\n",
    "print('yの中身を変えてみた場合')\n",
    "# yの2番目を10倍する\n",
    "y[1] *= 10\n",
    "\n",
    "# それぞれのリストを出力する\n",
    "print('y', y)\n",
    "print('x', x)\n",
    "print('元のリスト', list1)\n",
    "print('xとyは同じ?', x == y)\n",
    "print('====================\\n')\n",
    "\n",
    "print(''' yだけ値を変えたはずなのにxの値まで変化してしまいます。\n",
    "これはxとyが同じリストを参照してしまっているからです''')"
   ]
  },
  {
   "cell_type": "code",
   "execution_count": null,
   "metadata": {
    "id": "Ec2FIAVOdF3X"
   },
   "outputs": [],
   "source": [
    "# 例文：コピーを使う場合\n",
    "list1 = [1, 2, 3, 4]\n",
    "\n",
    "x = list1\n",
    "y = list1.copy()\n",
    "print('x', x)\n",
    "print('y', y)\n",
    "print('xとyは同じ?', x == y)\n",
    "print('====================\\n')\n",
    "print('yの中身を変えてみた場合')\n",
    "\n",
    "# yの2番目を10倍する\n",
    "y[1] *= 10\n",
    "\n",
    "# それぞれのリストを出力する\n",
    "print('y', y)\n",
    "print('x', x)\n",
    "print('元のリスト', list1)\n",
    "print('xとyは同じ?', x == y)\n",
    "\n",
    "print('''\\n今度はyだけ変化しました。\n",
    "これはcopy()を使ってlist1と同じ値を持つ新しいリストを生成したからです''')"
   ]
  },
  {
   "cell_type": "markdown",
   "metadata": {},
   "source": [
    ">Q31:以下のリストを'THK_prodcut2'という変数にコピーして、THK_product2から'アクチュエータ'を削除して出力しなさい。その後、THK_productを出力してリストが変化していないことをたしかめなさい"
   ]
  },
  {
   "cell_type": "code",
   "execution_count": null,
   "metadata": {
    "id": "QcAs9S4ndD6n"
   },
   "outputs": [],
   "source": [
    "THK_product = ['LMガイド', 'ボールねじ', 'クロスローラーリング', 'アクチュエータ']\n",
    "\n",
    "THK_product2 = THK_product.copy()\n",
    "THK_product2.remove('アクチュエータ')\n",
    "\n",
    "print(THK_product2)\n",
    "print(THK_product)\n",
    "print(THK_product == THK_product2)"
   ]
  },
  {
   "cell_type": "markdown",
   "metadata": {
    "id": "hjsY7zWFnDP5"
   },
   "source": [
    "> 4-18:リストと繰り返し\n",
    "- リストとfor文を組み合わせることでリストの値を順番に取り出すことができます"
   ]
  },
  {
   "cell_type": "code",
   "execution_count": null,
   "metadata": {
    "id": "owhrvQL4oahi"
   },
   "outputs": [],
   "source": [
    "# 復習　基本的なfor文の使い方\n",
    "# 変数numberに0~2の数字を順番に代入する\n",
    "for number in range(0, 3):\n",
    "    # 変数の中身を出力する\n",
    "    print(number)"
   ]
  },
  {
   "cell_type": "code",
   "execution_count": null,
   "metadata": {
    "id": "bEpf4ADPnfyL"
   },
   "outputs": [],
   "source": [
    "# 例文：リストの中身を順番に出力する\n",
    "team = ['A', 'B', 'C', 'D', 'E']\n",
    "\n",
    "# 変数team_nameにリストの中身を順番に代入する\n",
    "for team_name in team:\n",
    "    # 変数の中身を出力する\n",
    "    print(team_name)"
   ]
  },
  {
   "cell_type": "markdown",
   "metadata": {},
   "source": [
    ">Q32:以下のリストの要素を順番に出力しなさい"
   ]
  },
  {
   "cell_type": "code",
   "execution_count": null,
   "metadata": {
    "id": "ZuYCpodHq5-7"
   },
   "outputs": [],
   "source": [
    "THK_product = ['LMガイド', 'ボールねじ', 'クロスローラーリング', 'アクチュエータ']\n",
    "\n",
    "for product_name in THK_product:\n",
    "    print(product_name)"
   ]
  },
  {
   "cell_type": "markdown",
   "metadata": {
    "id": "07cZJpVzgmOn"
   },
   "source": [
    "### 辞書"
   ]
  },
  {
   "cell_type": "markdown",
   "metadata": {
    "id": "_b7iutihhDGc"
   },
   "source": [
    "> 4-19:辞書型について\n",
    "- 複数の「キー」と値が紐づいたデータ型を辞書といいます。\n",
    "- キーと値の1セットを辞書の「要素」と呼びます。\n",
    "- {キー1:値1, キー2:値2, ...}という形で定義できます"
   ]
  },
  {
   "cell_type": "code",
   "execution_count": null,
   "metadata": {
    "id": "3NjwTNfsgrQg"
   },
   "outputs": [],
   "source": [
    "# 例文：辞書を定義する\n",
    "\n",
    "# 首都圏の一部都道府県をキーに、その県庁所在地を値にしています。\n",
    "dict1 = {'東京都': '新宿区', '埼玉県': 'さいたま市', '神奈川県': '横浜市', '千葉県': '千葉市'}\n",
    "print(dict1)"
   ]
  },
  {
   "cell_type": "markdown",
   "metadata": {
    "id": "r9OXDhHYi262"
   },
   "source": [
    "> 4-20:辞書の変更、値の取り出し\n",
    "- 辞書の値を書き換えたり、要素を取り出す方法を学びます"
   ]
  },
  {
   "cell_type": "code",
   "execution_count": null,
   "metadata": {
    "id": "D4API0T5jBgj"
   },
   "outputs": [],
   "source": [
    "# 辞書から要素を取り出す\n",
    "dict1 = {'東京都': '新宿区', '埼玉県': 'さいたま市', '神奈川県': '横浜市', '千葉県': '千葉市'}\n",
    "\n",
    "# 埼玉県というキーの値を取り出す\n",
    "print('埼玉県の県庁所在地は?')\n",
    "print(dict1['埼玉県'])\n",
    "\n",
    "# 辞書に新しく要素を追加する\n",
    "# []の中がキー、右側が値になります\n",
    "dict1['北海道'] = '北海道' # 北海道をキーに北海道を追加\n",
    "print(dict1)\n",
    "\n",
    "# 値を書き換える\n",
    "# 北海道の県庁所在地は札幌市なので、右側を札幌市に書き換えます\n",
    "dict1['北海道'] = '札幌市'\n",
    "print(dict1)\n",
    "\n",
    "# 要素の削除\n",
    "del dict1['北海道']\n",
    "print(dict1)"
   ]
  },
  {
   "cell_type": "markdown",
   "metadata": {},
   "source": [
    ">Q33:以下の辞書にpineapple(パイン), grape(ぶどう)を追加して出力し、その後りんご、みかんを削除して出力しなさい"
   ]
  },
  {
   "cell_type": "code",
   "execution_count": null,
   "metadata": {
    "id": "s7QmbUDNzlFm"
   },
   "outputs": [],
   "source": [
    "dict1 = {'apple': 'りんご', 'orange': 'みかん', 'kiwifruit': 'キウイ'}\n",
    "\n",
    "dict1['pineapple'] = 'パイン'\n",
    "dict1['grape'] = 'ぶどう'\n",
    "print(dict1)\n",
    "\n",
    "del dict1['apple']\n",
    "del dict1['orange']\n",
    "print(dict1)"
   ]
  },
  {
   "cell_type": "markdown",
   "metadata": {
    "id": "CR3p0fkAslRW"
   },
   "source": [
    "> 4-21:辞書と繰り返し\n",
    "- リストと同様に辞書も繰り返すことができます。\n",
    "  - リストと同様の繰り返しでキーを取り出せます\n",
    "  - .values()メソッドで値を取り出せます\n",
    "  - .items()メソッドでどちらも取り出せます"
   ]
  },
  {
   "cell_type": "code",
   "execution_count": null,
   "metadata": {
    "id": "mmOWdkxdrvhR"
   },
   "outputs": [],
   "source": [
    "# 例文：辞書の繰り返し\n",
    "dict1 = {'東京都': '新宿区', '埼玉県': 'さいたま市', '神奈川県': '横浜市', '千葉県': '千葉市'}\n",
    "\n",
    "# キーの取り出し\n",
    "# リストと同じ形だとキーが取り出せます\n",
    "for key in dict1:\n",
    "    print(key)"
   ]
  },
  {
   "cell_type": "code",
   "execution_count": null,
   "metadata": {
    "id": "3A3gY1S3trVc"
   },
   "outputs": [],
   "source": [
    "# 値の取り出し\n",
    "# 辞書.values()で値を取り出します\n",
    "for value in dict1.values():\n",
    "    print(value)"
   ]
  },
  {
   "cell_type": "code",
   "execution_count": null,
   "metadata": {
    "id": "X9HzXTTot18J"
   },
   "outputs": [],
   "source": [
    "# どちらも取り出す\n",
    "# 辞書.items()でキーと値どちらも取り出せます\n",
    "# ２つの値を取り出すので、変数を2つ指定します\n",
    "for key, value in dict1.items():\n",
    "    print('{0}の県庁所在地は{1}です'.format(key, value))"
   ]
  },
  {
   "cell_type": "markdown",
   "metadata": {},
   "source": [
    ">Q34:以下の辞書のキーと値を順番に出力しなさい"
   ]
  },
  {
   "cell_type": "code",
   "execution_count": null,
   "metadata": {
    "id": "ni2E-A1quGLM"
   },
   "outputs": [],
   "source": [
    "product_dict = {'SHS': 'LMガイド',\n",
    "                'BNF': 'ボールねじ',\n",
    "                'KR': 'アクチュエータ',\n",
    "                'SLS': 'ボールスプライン'}\n",
    "\n",
    "for key, value in product_dict.items():\n",
    "    print(key, value)"
   ]
  },
  {
   "cell_type": "markdown",
   "metadata": {
    "id": "N4-z7P4Mysg-"
   },
   "source": [
    "## Lesson 5:関数"
   ]
  },
  {
   "cell_type": "markdown",
   "metadata": {
    "id": "Et_QU-wN1bEo"
   },
   "source": [
    ">5-1:関数の定義\n",
    "- print()などのビルトイン関数(初めから入っている関数)以外にも、自分でオリジナルの関数を作成できます"
   ]
  },
  {
   "cell_type": "code",
   "execution_count": null,
   "metadata": {
    "id": "fATVzfsK1Xbh"
   },
   "outputs": [],
   "source": [
    "# 例文：関数の定義\n",
    "# def 関数名：で関数名を定義します\n",
    "def Myfunction():\n",
    "    # 関数の中身はインデントを下げます\n",
    "    print('オリジナル関数です')"
   ]
  },
  {
   "cell_type": "code",
   "execution_count": null,
   "metadata": {
    "id": "8dQ-m5jb2Uvl"
   },
   "outputs": [],
   "source": [
    "# 関数の実行\n",
    "Myfunction()"
   ]
  },
  {
   "cell_type": "markdown",
   "metadata": {},
   "source": [
    ">Q35:'Hello World'と出力する関数を作成して実行しなさい"
   ]
  },
  {
   "cell_type": "code",
   "execution_count": null,
   "metadata": {
    "id": "8yDJ76R42sDc"
   },
   "outputs": [],
   "source": [
    "def Myfunction():\n",
    "    print(\"Hello World\")"
   ]
  },
  {
   "cell_type": "code",
   "execution_count": null,
   "metadata": {},
   "outputs": [],
   "source": [
    "Myfunction()"
   ]
  },
  {
   "cell_type": "markdown",
   "metadata": {
    "id": "-w-0PgF64wpT"
   },
   "source": [
    ">5-2:引数\n",
    "- 関数に引数を渡すことで、引数に対して処理を実行する関数を実行できます"
   ]
  },
  {
   "cell_type": "code",
   "execution_count": null,
   "metadata": {
    "id": "4oL5KQzW86MH"
   },
   "outputs": [],
   "source": [
    "# 例文：関数に引数を渡して関数内で実行できる\n",
    "# 関数名(引数)という形で引数の変数名を指定できる\n",
    "# 受け取った引数をyearに代入して用いる\n",
    "def year_greeting(year):\n",
    "    # yearを出力する\n",
    "    print('あけましておめでとうございます！今年は{0}年です。'.format(year))"
   ]
  },
  {
   "cell_type": "code",
   "execution_count": null,
   "metadata": {
    "id": "Aj1sxdxd9Wx7"
   },
   "outputs": [],
   "source": [
    "year = 2020\n",
    "year_greeting(year)\n",
    "number = 2000\n",
    "year_greeting(number)"
   ]
  },
  {
   "cell_type": "markdown",
   "metadata": {},
   "source": [
    ">Q36:名前(山田、佐藤など)を変数として渡すと'私は(名前)です。'と出力する関数を作成して実行しなさい"
   ]
  },
  {
   "cell_type": "code",
   "execution_count": null,
   "metadata": {
    "id": "KwBpdnfh-z6F"
   },
   "outputs": [],
   "source": [
    "def self_introduction(name):\n",
    "    print('私は{}です。'.format(name))"
   ]
  },
  {
   "cell_type": "code",
   "execution_count": null,
   "metadata": {},
   "outputs": [],
   "source": [
    "name = '山田'\n",
    "self_introduction(name)"
   ]
  },
  {
   "cell_type": "markdown",
   "metadata": {
    "id": "c09lBnvB-lb_"
   },
   "source": [
    ">5-2:戻り値\n",
    "- 関数で処理した結果を戻り値として戻すことができます"
   ]
  },
  {
   "cell_type": "code",
   "execution_count": null,
   "metadata": {
    "id": "3xyvb4QgAMJ-"
   },
   "outputs": [],
   "source": [
    "# 例文：三角形の面積を計算して返す関数\n",
    "# 底辺baseと高さheightが必要なので、引数を2つ取る\n",
    "def calc_triangle_area(base, height):\n",
    "    # 面積を計算してareaに代入\n",
    "    area = base * height / 2\n",
    "    # returnで戻り値を指定する\n",
    "    return area"
   ]
  },
  {
   "cell_type": "code",
   "execution_count": null,
   "metadata": {
    "id": "_OvLDme-Awdc"
   },
   "outputs": [],
   "source": [
    "# 関数の戻り値を変数に代入できる\n",
    "result = calc_triangle_area(4, 4)\n",
    "print(result)\n",
    "result = calc_triangle_area(5, 7)\n",
    "print(result)"
   ]
  },
  {
   "cell_type": "markdown",
   "metadata": {},
   "source": [
    ">Q37:半径を渡すと円の面積を計算して返す関数を実装しなさい。円周率は3.14としなさい。<br>\n",
    "半径1, 4のときでそれぞれ面積を計算して出力しなさい。"
   ]
  },
  {
   "cell_type": "code",
   "execution_count": null,
   "metadata": {},
   "outputs": [],
   "source": [
    "def calc_circle_area(radius):\n",
    "    area = radius ** 2 * 3.14\n",
    "    return area"
   ]
  },
  {
   "cell_type": "code",
   "execution_count": null,
   "metadata": {},
   "outputs": [],
   "source": [
    "result = calc_circle_area(1)\n",
    "print(result)\n",
    "result = calc_circle_area(4)\n",
    "print(result)"
   ]
  },
  {
   "cell_type": "markdown",
   "metadata": {
    "id": "GXUzr-RrBU-g"
   },
   "source": [
    ">5-3:無名関数\n",
    "- 無名関数という関数を使えば、関数を定義しなくてもオリジナルの処理を実行できます\n",
    "  - 無名関数は、関数を定義するほど複雑ではなく、何回も使用しないときに使います。\n",
    "  - 特に他の関数との組み合わせで使います。\n",
    "- lambda x: xに対する処理　という形で定義します"
   ]
  },
  {
   "cell_type": "code",
   "execution_count": null,
   "metadata": {
    "id": "_ndrUf72GfGq"
   },
   "outputs": [],
   "source": [
    "# 例文：無名関数の書き方\n",
    "\n",
    "# 無名関数を使って数を2乗する\n",
    "# lambda x: x ** 2が無名関数部分\n",
    "# (4)は引数でxに代入される\n",
    "num = (lambda x: x ** 2)(4)\n",
    "print(num)\n",
    "\n",
    "# 文字列でも可能\n",
    "string1 = (lambda x: x + '!!!')('おはよう')\n",
    "print(string1)"
   ]
  },
  {
   "cell_type": "markdown",
   "metadata": {},
   "source": [
    ">Q38:無名関数を使って、'直動'という引数を渡すと、'直動太郎'と戻す関数を作成して出力しなさい"
   ]
  },
  {
   "cell_type": "code",
   "execution_count": null,
   "metadata": {
    "id": "U3-TtMsUIQJx"
   },
   "outputs": [],
   "source": [
    "string1 = (lambda x: x + '太郎')('直動')\n",
    "print(string1)"
   ]
  },
  {
   "cell_type": "markdown",
   "metadata": {
    "id": "8EwJ_oNcIdyT"
   },
   "source": [
    ">5-4:無名関数の応用\n",
    "- 無名関数と他の関数を組み合わせると、複雑な処理を簡単な記述で書くことができます。"
   ]
  },
  {
   "cell_type": "code",
   "execution_count": null,
   "metadata": {
    "id": "qvQFiYap9ZJm"
   },
   "outputs": [],
   "source": [
    "# 例文: 複雑なsort処理を無名関数で行う\n",
    "# 名簿のリストを作る\n",
    "list1 = ['sato', 'honda', 'suzuki', 'ito']\n",
    "# 名簿を昇順ソート\n",
    "list1.sort()\n",
    "print(list1)"
   ]
  },
  {
   "cell_type": "code",
   "execution_count": null,
   "metadata": {
    "id": "wzsyUCc-BNNI"
   },
   "outputs": [],
   "source": [
    "# sort()の引数keyには関数を指定できる\n",
    "# keyにlen関数を指定すると文字列の長さ順にソートされる\n",
    "list1.sort(key=len)\n",
    "print(list1)"
   ]
  },
  {
   "cell_type": "code",
   "execution_count": null,
   "metadata": {
    "id": "W63O57Ov_wHA"
   },
   "outputs": [],
   "source": [
    "# 無名関数を用いることで、複雑なソートが可能\n",
    "# keyはx[1]、つまり文字列の2番目の文字（'sato'なら'a'）を参照してソートする\n",
    "list1.sort(key=lambda x: x[1])\n",
    "print(list1)"
   ]
  },
  {
   "cell_type": "markdown",
   "metadata": {
    "id": "KUX9CdY6I7tv"
   },
   "source": [
    "## (参考資料)Lesson 6:エラーメッセージへの対処、デバッグ"
   ]
  },
  {
   "cell_type": "markdown",
   "metadata": {
    "id": "RcFu2EpMJD4y"
   },
   "source": [
    ">6-1:print文を使ったデバッグ\n",
    "- デバッグとはエラーが出たときの原因を探して修正することです。\n",
    "- 高度なデバッグ用のツールはありますが、基本的なデバッグならprint文で行うことができます"
   ]
  },
  {
   "cell_type": "code",
   "execution_count": null,
   "metadata": {
    "id": "IBe5Fctd_48Y"
   },
   "outputs": [],
   "source": [
    "# 例文：これを実行するとエラーになります\n",
    "a = 1\n",
    "b = 2\n",
    "c = 3\n",
    "d = a + b\n",
    "e = 5 / (d-c)"
   ]
  },
  {
   "cell_type": "markdown",
   "metadata": {
    "id": "I3T_62bOK4rE"
   },
   "source": [
    "- 実行すると以下のようなエラーメッセージが出てきます\n",
    "\n",
    "           4 c = 3\n",
    "           5 d = a + b\n",
    "      ---->6 e = 5 / (d-c)\n",
    "      ZeroDivisionError: division by zero\n",
    "- このエラーメッセージは「0で割り算している」という意味で、矢印の行に問題があることを表しています。\n",
    "- このようなエラーが起こったときは、途中でprint文を挟むと原因が分かることがあります。"
   ]
  },
  {
   "cell_type": "code",
   "execution_count": null,
   "metadata": {
    "id": "H_hLLiLOJ17N"
   },
   "outputs": [],
   "source": [
    "a = 1\n",
    "b = 2\n",
    "c = 3\n",
    "d = a + b\n",
    "# print文を挟む\n",
    "print(d)\n",
    "print(d-c) # 0が出力される\n",
    "e = 5"
   ]
  },
  {
   "cell_type": "markdown",
   "metadata": {
    "id": "LYymhjl_MBfn"
   },
   "source": [
    "- 他にもfor文やif文を含む複雑な処理をするときに、意図した条件で本当に実行されているのかたしかめるときにprint文を使います"
   ]
  },
  {
   "cell_type": "code",
   "execution_count": null,
   "metadata": {
    "id": "Tx98qewTL54t"
   },
   "outputs": [],
   "source": [
    "# 例文：for文とif文を組み合わせた文の例\n",
    "# 計算結果を入れる用の空のリスト\n",
    "list1 = []\n",
    "# 0から10の数に対して、2で割り切れるとき、3で割り切れるとき、それ以外で場合分けして計算した結果を代入、出力したい\n",
    "for number in range(10):\n",
    "    # 2で割り切れるときの処理\n",
    "    if number % 2 == 0:\n",
    "        # 2乗した値をリストに追加\n",
    "        list1.append(number ** 2)\n",
    "    # 3で割り切れるときの処理\n",
    "    if number % 3 == 0:\n",
    "        # 3乗した値をリストに追加\n",
    "        list1.append(number ** 3)\n",
    "    # それ以外のとき\n",
    "    else:\n",
    "        # 2倍した値をリストに追加\n",
    "        list1.append(number * 2)\n",
    "print(list1)"
   ]
  },
  {
   "cell_type": "markdown",
   "metadata": {
    "id": "2_inBGmGOgKZ"
   },
   "source": [
    "- 何か結果がおかしいので、原因を探りましょう"
   ]
  },
  {
   "cell_type": "code",
   "execution_count": null,
   "metadata": {
    "id": "R3NQJHEfNAvU"
   },
   "outputs": [],
   "source": [
    "# ループや条件分岐の中にprintを挟むと、どの処理をしているのか出力することができます\n",
    "list1 = []\n",
    "for number in range(10):\n",
    "    if number % 2 == 0:\n",
    "        print(number, 'は条件1です')\n",
    "        list1.append(number ** 2)\n",
    "    if number % 3 == 0:\n",
    "        print(number, 'は条件2です')\n",
    "        list1.append(number ** 3)\n",
    "    else:\n",
    "        print(number, 'は条件3です')\n",
    "        list1.append(number * 2)\n",
    "print(list1)"
   ]
  },
  {
   "cell_type": "markdown",
   "metadata": {
    "id": "80tS9ezzO0n5"
   },
   "source": [
    "- 同じナンバーに対して複数の条件が処理されてしまっていることがわかります。\n",
    "  - 複数処理されているのは0, 2, 4, 6, 8の2で割り切れるときです\n",
    "- もとのコードを確認すると、\n",
    "  - if\n",
    "  - if\n",
    "  - else\n",
    "- になっているので、これでは1行目と、2,3行目が同時に処理されてしまいます。\n",
    "  - if\n",
    "  - elif\n",
    "  - else\n",
    "- の形に直しましょう。"
   ]
  },
  {
   "cell_type": "code",
   "execution_count": null,
   "metadata": {
    "id": "HPXL2D2kMv-k"
   },
   "outputs": [],
   "source": [
    "# ループや条件分岐の中にprintを挟むと、どの処理をしているのか出力することができます\n",
    "list1 = []\n",
    "for number in range(10):\n",
    "    if number % 2 == 0:\n",
    "        print(number, 'は条件1です')\n",
    "        list1.append(number ** 2)\n",
    "    elif number % 3 == 0:\n",
    "        print(number, 'は条件2です')\n",
    "        list1.append(number ** 3)\n",
    "    else:\n",
    "        print(number, 'は条件3です')\n",
    "        list1.append(number * 2)\n",
    "print(list1)"
   ]
  },
  {
   "cell_type": "markdown",
   "metadata": {
    "id": "5C2MA58SPuOu"
   },
   "source": [
    "- うまく実行できました\n",
    "- このようにprint文をうまく活用してデバッグしてみましょう\n",
    "\n"
   ]
  },
  {
   "cell_type": "markdown",
   "metadata": {
    "id": "8Np7iPB4QWBe"
   },
   "source": [
    ">6-2:よくあるエラー\n",
    "- 最後によくあるエラーを載せておきます。\n",
    "- エラーが起きたときは、\n",
    "  - エラーが起きた行や場所を確認\n",
    "  - エラーメッセージを読む\n",
    "  - エラーメッセージをコピーしてネットで検索する\n",
    "- エラーの原因はネットで検索すると見つかることが多いです。根気よく取り組みましょう。"
   ]
  },
  {
   "cell_type": "markdown",
   "metadata": {
    "id": "gx3JzdWHREQH"
   },
   "source": [
    "1. コロンの付け忘れ"
   ]
  },
  {
   "cell_type": "code",
   "execution_count": null,
   "metadata": {
    "id": "dPcT0R8HPtGf"
   },
   "outputs": [],
   "source": [
    "num = 10\n",
    "if num == 10\n",
    "    print('デバッグしよう')"
   ]
  },
  {
   "cell_type": "markdown",
   "metadata": {
    "id": "b3doB30MRHbx"
   },
   "source": [
    "2. =と==の間違い"
   ]
  },
  {
   "cell_type": "code",
   "execution_count": null,
   "metadata": {
    "id": "0TyiQPzhQnK4"
   },
   "outputs": [],
   "source": [
    "num = 10\n",
    "if num = 10:\n",
    "    print('デバッグしよう')"
   ]
  },
  {
   "cell_type": "markdown",
   "metadata": {
    "id": "mwCHX1WVQy3I"
   },
   "source": [
    "3. 変数名にpythonキーワード(関数名など)を使う\n",
    "- 変数名にprintをつけるとprint関数が使用できなくなります"
   ]
  },
  {
   "cell_type": "code",
   "execution_count": null,
   "metadata": {
    "id": "ifBPWIB9QxC_"
   },
   "outputs": [],
   "source": [
    "print = 'プリント'\n",
    "print(print)"
   ]
  },
  {
   "cell_type": "code",
   "execution_count": null,
   "metadata": {
    "id": "IJuq_9AmSD0f"
   },
   "outputs": [],
   "source": [
    "print('こんにちは')"
   ]
  },
  {
   "cell_type": "code",
   "execution_count": null,
   "metadata": {
    "id": "UNWugIFTSIJq"
   },
   "outputs": [],
   "source": [
    "# 変数のデリート\n",
    "del print"
   ]
  },
  {
   "cell_type": "code",
   "execution_count": null,
   "metadata": {
    "id": "wEJ1NHxuSOdd"
   },
   "outputs": [],
   "source": [
    "print('こんにちは')"
   ]
  },
  {
   "cell_type": "code",
   "execution_count": null,
   "metadata": {
    "id": "H9FWvtCZRiQx"
   },
   "outputs": [],
   "source": [
    "# classはpythonキーワードなので使用できません\n",
    "class = '文字列'\n",
    "print(class)"
   ]
  },
  {
   "cell_type": "markdown",
   "metadata": {
    "id": "Q49RCwRiSlw6"
   },
   "source": [
    "4. 参照がリストの最大インデックスを超えている"
   ]
  },
  {
   "cell_type": "code",
   "execution_count": null,
   "metadata": {
    "id": "4Z3fGxqDRxEs"
   },
   "outputs": [],
   "source": [
    "list1 = ['a', 'b', 'c', 'd']\n",
    "print(list1[5])"
   ]
  },
  {
   "cell_type": "markdown",
   "metadata": {
    "id": "ABFhP6nfS1dc"
   },
   "source": [
    "5. スペルミス"
   ]
  },
  {
   "cell_type": "code",
   "execution_count": null,
   "metadata": {
    "id": "ufL0IIZgSe41"
   },
   "outputs": [],
   "source": [
    "name = '直動太郎'\n",
    "pritn(name)"
   ]
  },
  {
   "cell_type": "code",
   "execution_count": null,
   "metadata": {
    "id": "5s2mXHMfTCB9"
   },
   "outputs": [],
   "source": [
    "string1 = 'abcde'\n",
    "print(string1.uppper())"
   ]
  },
  {
   "cell_type": "markdown",
   "metadata": {
    "id": "z67ef9V7TKoE"
   },
   "source": [
    "## 参考文献、資料"
   ]
  },
  {
   "cell_type": "markdown",
   "metadata": {
    "id": "WbSmsEVLYtrc"
   },
   "source": [
    "### 参考文献\n",
    "- 初心者向け\n",
    "    - スラスラ読める Pythonふりがなプログラミング https://book.impress.co.jp/books/1117101140\n",
    "    - Python 1年生 体験してわかる！会話でまなべる！プログラミングのしくみ　https://www.shoeisha.co.jp/book/detail/9784798153193\n",
    "- 中上級者向け\n",
    "    - Pythonプログラミングパーフェクトマスター https://www.shuwasystem.co.jp/book/9784798048161.html\n",
    "    - みんなのPython https://www.sbcr.jp/product/4797353952/\n",
    "    - Pythonによるデータ分析入門 https://www.oreilly.co.jp/books/9784873118451/\n",
    "    - Python実践データ分析100本ノック https://www.shuwasystem.co.jp/book/9784798058757.html\n",
    "    - 東京大学のデータサイエンティスト育成講座 https://book.mynavi.jp/ec/products/detail/id=102631\n",
    "\n",
    "### 参考URL\n",
    "- https://note.nkmk.me/python/"
   ]
  },
  {
   "cell_type": "markdown",
   "metadata": {},
   "source": [
    "## これでPython入門講座は終了です！データサイエンス100本ノックも頑張りましょう！"
   ]
  }
 ],
 "metadata": {
  "colab": {
   "collapsed_sections": [
    "eD4Tuj4bg79I",
    "Li1tRjro9SL7",
    "RgPW6OL78DuQ"
   ],
   "name": "Python_tutorial.ipynb",
   "private_outputs": true,
   "provenance": [],
   "toc_visible": true
  },
  "kernelspec": {
   "display_name": "Python 3",
   "language": "python",
   "name": "python3"
  },
  "language_info": {
   "codemirror_mode": {
    "name": "ipython",
    "version": 3
   },
   "file_extension": ".py",
   "mimetype": "text/x-python",
   "name": "python",
   "nbconvert_exporter": "python",
   "pygments_lexer": "ipython3",
   "version": "3.8.5"
  }
 },
 "nbformat": 4,
 "nbformat_minor": 4
}
